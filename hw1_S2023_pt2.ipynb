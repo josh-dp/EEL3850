{
 "cells": [
  {
   "cell_type": "markdown",
   "metadata": {},
   "source": [
    "# Homework 1 Part 2\n",
    "\n",
    "\n",
    "This is an individual assignment."
   ]
  },
  {
   "cell_type": "markdown",
   "metadata": {},
   "source": [
    "## Description\n",
    "\n",
    "Create or edit this Jupyter Notebook to answer the questions below. Use simulations to answer these questions. An analytical solution can be useful to check if your simulation is correct but analytical solutions alone will not be accepted as a solution to a problem."
   ]
  },
  {
   "cell_type": "markdown",
   "metadata": {},
   "source": [
    "#### Problem 9\n",
    "\n",
    "Consider repeatedly rolling a fair 4-sided die.\n",
    "\n",
    "1. Create a simulation to compute the probability that the top face will be 4 at least once on four rolls of the die?\n",
    "2. Create a simulation to compute the probability that the top face will be 4 at least once on 20 rolls of the die?\n",
    "3. Create a simulation to compute how many rolls of the die would you have to do to be 90% confident that you would see at least one 4?\n",
    "4. Using the formula you have computed in problem 2 part 4, make a Python function that takes in the target value $p$ and outputs the required number of rolls of an integer. \n",
    "    1. Find the values for $p=0.95$ and $p=0.99$. \n",
    "    2. Use your simulation to verify that the number of rolls you specified is sufficient to achieve $p\\geq 0.95$."
   ]
  },
  {
   "cell_type": "code",
   "execution_count": 1,
   "metadata": {},
   "outputs": [
    {
     "name": "stdout",
     "output_type": "stream",
     "text": [
      "The probability that 4 will appear at least once on four rolls of the die is 0.6695\n"
     ]
    }
   ],
   "source": [
    "import random\n",
    "\n",
    "# 1. Simulation that top face will be 4 at least once on four rolls of die\n",
    "num_sims = 10000\n",
    "\n",
    "hasFour = 0\n",
    "for sim in range(num_sims):\n",
    "    for roll in range(4):\n",
    "        if random.choice(range(1,5)) == 4:\n",
    "            hasFour += 1\n",
    "            break\n",
    "print(\"The probability that 4 will appear at least once on four rolls of the die is\", hasFour / num_sims)"
   ]
  },
  {
   "cell_type": "code",
   "execution_count": 2,
   "metadata": {},
   "outputs": [
    {
     "name": "stdout",
     "output_type": "stream",
     "text": [
      "The probability that 4 will appear at least once on twenty rolls of the die is 0.998\n"
     ]
    }
   ],
   "source": [
    "# 2. Simulation that top face will be 4 at least once on 20 rolls of die\n",
    "\n",
    "num_sims = 10000\n",
    "\n",
    "hasFour = 0\n",
    "for sim in range(num_sims):\n",
    "    for roll in range(20):\n",
    "        if random.choice(range(1,5)) == 4:\n",
    "            hasFour += 1\n",
    "            break\n",
    "print(\"The probability that 4 will appear at least once on twenty rolls of the die is\", hasFour / num_sims)"
   ]
  },
  {
   "cell_type": "code",
   "execution_count": 3,
   "metadata": {},
   "outputs": [
    {
     "name": "stdout",
     "output_type": "stream",
     "text": [
      "9 rolls are required to be 90% confident a 4 is seen at least once\n"
     ]
    }
   ],
   "source": [
    "# 3. Simulation to be 90% confident a 4 is seen at least once\n",
    "\n",
    "numRolls = 0\n",
    "p = 0\n",
    "while p < 0.9:\n",
    "    numRolls += 1\n",
    "    p = 1 - pow(0.75, numRolls)\n",
    "print(numRolls, \"rolls are required to be 90% confident a 4 is seen at least once\")"
   ]
  },
  {
   "cell_type": "code",
   "execution_count": 4,
   "metadata": {},
   "outputs": [
    {
     "name": "stdout",
     "output_type": "stream",
     "text": [
      "11 rolls are required to be 95% confident a 4 is seen at least once\n",
      "17 rolls are required to be 99% confident a 4 is seen at least once\n"
     ]
    }
   ],
   "source": [
    "# 4. Function to find number of rolls necessary for a specific confidence percentage\n",
    "\n",
    "def rolls_required(confidence):\n",
    "    numRolls = 0\n",
    "    p = 0\n",
    "    while p < confidence:\n",
    "        numRolls += 1\n",
    "        p = 1 - pow(0.75, numRolls)\n",
    "    return numRolls\n",
    "\n",
    "print(rolls_required(0.95), \"rolls are required to be 95% confident a 4 is seen at least once\")\n",
    "print(rolls_required(0.99), \"rolls are required to be 99% confident a 4 is seen at least once\")"
   ]
  },
  {
   "cell_type": "markdown",
   "metadata": {},
   "source": [
    "## Problem 10\n",
    "\n",
    "Create a simulation function where you will roll a fair 6-sided die twice. Use simulation to find out the probability of getting a 4,5, or 6 on the first toss and a 1,2,3 on the second toss. "
   ]
  },
  {
   "cell_type": "code",
   "execution_count": 5,
   "metadata": {},
   "outputs": [
    {
     "name": "stdout",
     "output_type": "stream",
     "text": [
      "The probability of this event occuring is 0.2513\n"
     ]
    }
   ],
   "source": [
    "num_sims = 10000\n",
    "\n",
    "eventCount = 0\n",
    "for sim in range(num_sims):\n",
    "    roll1 = random.choice(range(1,7))\n",
    "    roll2 = random.choice(range(1,7))\n",
    "    if roll1 > 3 and roll2 <= 3:\n",
    "        eventCount += 1\n",
    "        \n",
    "print(\"The probability of this event occuring is\", eventCount / num_sims)"
   ]
  },
  {
   "cell_type": "markdown",
   "metadata": {},
   "source": [
    "## Problem 11\n",
    "\n",
    "Suppose that you have a bag with 3 coins. One of them is a fair coin, but the others are biased trick coins. When flipped, the three coins come up heads with probability $\\frac{1}{2}$, $\\frac{1}{3}$, and $\\frac{1}{4}$, respectively.\n",
    "\n",
    "Consider the experiment where you pick one coin at random and flip it three times. Let $H_i$ be the event that the coin comes up heads on flip $i$. What is the probability of the outcome $H_1\\cap H_2\\cap \\overline{H_3}$?\n",
    "\n",
    "With small modification in your code, find out the probability of the outcome $H_1\\cap \\overline{H_2} \\cap \\overline{H_3}$.\n",
    "\n",
    "Use simulation to find out the probability."
   ]
  },
  {
   "cell_type": "code",
   "execution_count": 6,
   "metadata": {},
   "outputs": [
    {
     "name": "stdout",
     "output_type": "stream",
     "text": [
      "The probability of 𝐻1∩𝐻2∩-H3 is 0.0802\n",
      "The probability of 𝐻1∩-H2∩-H3 is 0.1406\n"
     ]
    }
   ],
   "source": [
    "num_sims = 10000\n",
    "\n",
    "eventCount1 = 0\n",
    "eventCount2 = 0\n",
    "event = [\"H\",\"H\",\"T\"]\n",
    "for sim in range(num_sims):\n",
    "    seq = []\n",
    "    coin = random.choice(range(1,4))\n",
    "    if coin == 1:\n",
    "        seq = [\"H\", \"T\"]\n",
    "    elif coin == 2:\n",
    "        seq = [\"H\", \"T\", \"T\"]\n",
    "    else:\n",
    "        seq = [\"H\", \"T\", \"T\", \"T\"]\n",
    "    flip1 = random.choice(seq)\n",
    "    flip2 = random.choice(seq)\n",
    "    flip3 = random.choice(seq)\n",
    "    if flip1 == \"H\" and flip2 == \"H\" and flip3 != \"H\":\n",
    "        eventCount1 += 1\n",
    "    if flip1 == \"H\" and flip2 != \"H\" and flip3 != \"H\":\n",
    "        eventCount2 += 1\n",
    "        \n",
    "print(\"The probability of 𝐻1∩𝐻2∩-H3 is\", eventCount1 / num_sims)\n",
    "print(\"The probability of 𝐻1∩-H2∩-H3 is\", eventCount2 / num_sims)"
   ]
  },
  {
   "cell_type": "markdown",
   "metadata": {},
   "source": [
    "# Submit Your Solutions\n",
    "\n",
    "Confirm that you've successfully completed the assignment.\n",
    "\n",
    "Along with the Notebook, include a PDF of the notebook with your solutions.\n",
    "\n",
    "```add``` and ```commit``` the final version of your work, and ```push``` your PDF file to your GitHub repository.\n",
    "\n",
    "Submit the URL of your GitHub Repository as your assignment submission on Canvas."
   ]
  }
 ],
 "metadata": {
  "kernelspec": {
   "display_name": "Python 3 (ipykernel)",
   "language": "python",
   "name": "python3"
  },
  "language_info": {
   "codemirror_mode": {
    "name": "ipython",
    "version": 3
   },
   "file_extension": ".py",
   "mimetype": "text/x-python",
   "name": "python",
   "nbconvert_exporter": "python",
   "pygments_lexer": "ipython3",
   "version": "3.9.13"
  },
  "latex_envs": {
   "LaTeX_envs_menu_present": true,
   "autoclose": false,
   "autocomplete": true,
   "bibliofile": "biblio.bib",
   "cite_by": "apalike",
   "current_citInitial": 1,
   "eqLabelWithNumbers": true,
   "eqNumInitial": 1,
   "hotkeys": {
    "equation": "Ctrl-E",
    "itemize": "Ctrl-I"
   },
   "labels_anchors": false,
   "latex_user_defs": false,
   "report_style_numbering": false,
   "user_envs_cfg": false
  },
  "varInspector": {
   "cols": {
    "lenName": 16,
    "lenType": 16,
    "lenVar": 40
   },
   "kernels_config": {
    "python": {
     "delete_cmd_postfix": "",
     "delete_cmd_prefix": "del ",
     "library": "var_list.py",
     "varRefreshCmd": "print(var_dic_list())"
    },
    "r": {
     "delete_cmd_postfix": ") ",
     "delete_cmd_prefix": "rm(",
     "library": "var_list.r",
     "varRefreshCmd": "cat(var_dic_list()) "
    }
   },
   "types_to_exclude": [
    "module",
    "function",
    "builtin_function_or_method",
    "instance",
    "_Feature"
   ],
   "window_display": false
  }
 },
 "nbformat": 4,
 "nbformat_minor": 4
}
